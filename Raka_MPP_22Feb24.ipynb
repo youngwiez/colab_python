{
  "nbformat": 4,
  "nbformat_minor": 0,
  "metadata": {
    "colab": {
      "provenance": [],
      "authorship_tag": "ABX9TyPha3igl8jo3mDD9x0J6ADb",
      "include_colab_link": true
    },
    "kernelspec": {
      "name": "python3",
      "display_name": "Python 3"
    },
    "language_info": {
      "name": "python"
    }
  },
  "cells": [
    {
      "cell_type": "markdown",
      "metadata": {
        "id": "view-in-github",
        "colab_type": "text"
      },
      "source": [
        "<a href=\"https://colab.research.google.com/github/youngwiez/colab_python/blob/main/Raka_MPP_22Feb24.ipynb\" target=\"_parent\"><img src=\"https://colab.research.google.com/assets/colab-badge.svg\" alt=\"Open In Colab\"/></a>"
      ]
    },
    {
      "cell_type": "markdown",
      "source": [
        "# Numpy Array\n",
        "---\n",
        "Suatu tabel yang biasanya berisi angka bertipe sama\n",
        "dan diindeks dalam bentuk tuple."
      ],
      "metadata": {
        "id": "VzoD6-XOKA3v"
      }
    },
    {
      "cell_type": "markdown",
      "source": [
        "# Cara membuat array Numpy\n",
        "\n",
        "---\n",
        "**1. Menggunakan function `numpy.empty`**\n",
        "\n",
        "Function `numpy.empty` mengembalikan nilai pada array dengan random values\n",
        "\n",
        "Contoh command: `numpy.empty(shape, dtype=float, order='C')`\n",
        "\n",
        "Keterangan:\n",
        "*   `shape` = jumlah baris\n",
        "*   `dtype` = tipe datanya (default-nya bertipe float)\n",
        "*   `order` = `C` / `C_contiguous` (data urut dari terbesar) atau `F` / `F_contiguous` (dari terkecil)"
      ],
      "metadata": {
        "id": "aBLoDar6Lg9G"
      }
    },
    {
      "cell_type": "code",
      "execution_count": 1,
      "metadata": {
        "colab": {
          "base_uri": "https://localhost:8080/"
        },
        "id": "as4zD1IC3FIG",
        "outputId": "686b1ac0-8922-4176-c768-5c0f90646d55"
      },
      "outputs": [
        {
          "output_type": "stream",
          "name": "stdout",
          "text": [
            "Matrix b : \n",
            " [-4611686018427387904      140733732257791]\n",
            "\n",
            "Matrix a : \n",
            " [[97217233818429              0]\n",
            " [             0              0]]\n",
            "\n",
            "Matrix c : \n",
            " [[4.80316951e-310 0.00000000e+000 0.00000000e+000]\n",
            " [0.00000000e+000 0.00000000e+000 0.00000000e+000]\n",
            " [0.00000000e+000 0.00000000e+000 0.00000000e+000]]\n"
          ]
        }
      ],
      "source": [
        "import numpy as np\n",
        "\n",
        "b = np.empty(2, dtype = int)\n",
        "print(\"Matrix b : \\n\", b)\n",
        "\n",
        "a = np.empty([2, 2], dtype = int)\n",
        "print(\"\\nMatrix a : \\n\", a)\n",
        "\n",
        "c = np.empty([3, 3])\n",
        "print(\"\\nMatrix c : \\n\", c)"
      ]
    },
    {
      "cell_type": "markdown",
      "source": [
        "**2. Menggunakan function `numpy.zeros`**\n",
        "\n",
        "Function `numpy.zeros` mengembalikan nilai pada array dengan 0\n",
        "\n",
        "Contoh command: `numpy.zeros(shape, dtype=None, order='C')`"
      ],
      "metadata": {
        "id": "qAjxy8UzLGwU"
      }
    },
    {
      "cell_type": "code",
      "source": [
        "\"\"\"\n",
        "Cara lain membuat array Numpy bisa dengan function numpy.zeros\n",
        "Function numpy.zeros mengembalikan nilai array dengan 0\n",
        "\n",
        "Contoh command: numpy.zeros(shape, dtype=None, order='C')\n",
        "\"\"\"\n",
        "import numpy as np\n",
        "\n",
        "b = np.zeros(2, dtype = int)\n",
        "print(\"Matrix b : \\n\", b)\n",
        "\n",
        "a = np.zeros([2, 2], dtype = int)\n",
        "print(\"\\nMatrix a : \\n\", a)\n",
        "\n",
        "c = np.zeros([3, 3])\n",
        "print(\"\\nMatrix c : \\n\", c)"
      ],
      "metadata": {
        "colab": {
          "base_uri": "https://localhost:8080/"
        },
        "id": "5bNFWtlt-F5Q",
        "outputId": "4b97de01-08cb-4ddf-8e75-bad2b9005eef"
      },
      "execution_count": 16,
      "outputs": [
        {
          "output_type": "stream",
          "name": "stdout",
          "text": [
            "Matrix b : \n",
            " [0 0]\n",
            "\n",
            "Matrix a : \n",
            " [[0 0]\n",
            " [0 0]]\n",
            "\n",
            "Matrix c : \n",
            " [[0. 0. 0.]\n",
            " [0. 0. 0.]\n",
            " [0. 0. 0.]]\n"
          ]
        }
      ]
    },
    {
      "cell_type": "markdown",
      "source": [
        "# Operasi Aritmatika Numpy\n",
        "\n",
        "\n",
        "---\n",
        "**1. Penjumlahan**"
      ],
      "metadata": {
        "id": "hi6BEM9HL8SG"
      }
    },
    {
      "cell_type": "code",
      "source": [
        "import numpy as np\n",
        "\n",
        "# Define kedua matrix untuk dijumlahkan\n",
        "a = np.array([5, 72, 13, 100])\n",
        "b = np.array([2, 5, 10, 30])\n",
        "\n",
        "# Operasi penjumlahan matrix manual -> a+b\n",
        "add_ans = a+b\n",
        "print(add_ans)\n",
        "\n",
        "# Operasi penjumlahan dengan function Numpy -> np.add(a,b)\n",
        "add_ans = np.add(a, b)\n",
        "print(add_ans)\n",
        "\n",
        "# Fungsi dan operasi yang sama dapat digunakan untuk matrix lainnya\n",
        "c = np.array([1, 2, 3, 4])\n",
        "add_ans = a+b+c\n",
        "print(add_ans)\n",
        "\n",
        "add_ans = np.add(a, b, c)\n",
        "print(add_ans)"
      ],
      "metadata": {
        "colab": {
          "base_uri": "https://localhost:8080/"
        },
        "id": "hJcoHb53_YDg",
        "outputId": "f8405076-0d8e-4176-d48c-8e1662e6b73d"
      },
      "execution_count": 17,
      "outputs": [
        {
          "output_type": "stream",
          "name": "stdout",
          "text": [
            "[  7  77  23 130]\n",
            "[  7  77  23 130]\n",
            "[  8  79  26 134]\n",
            "[  7  77  23 130]\n"
          ]
        }
      ]
    },
    {
      "cell_type": "markdown",
      "source": [
        "**2. Pengurangan**"
      ],
      "metadata": {
        "id": "23BKJaOUMESG"
      }
    },
    {
      "cell_type": "code",
      "source": [
        "import numpy as np\n",
        "\n",
        "# Define kedua matrix untuk dikurangkan\n",
        "a = np.array([5, 72, 13, 100])\n",
        "b = np.array([2, 5, 10, 30])\n",
        "\n",
        "# Operasi penjumlahan matrix manual -> a+b\n",
        "sub_ans = a-b\n",
        "print(sub_ans)\n",
        "\n",
        "# Operasi penjumlahan matrix dengan function numpy -> np.subtract(a,b)\n",
        "sub_ans = np.subtract(a,b)\n",
        "print(sub_ans)\n",
        "\n",
        "c = np.array([1, 2, 3, 4])\n",
        "sub_ans = a-b-c\n",
        "print(sub_ans)\n",
        "\n",
        "sub_ans = np.subtract(a, b, c)\n",
        "print(sub_ans)"
      ],
      "metadata": {
        "colab": {
          "base_uri": "https://localhost:8080/"
        },
        "id": "CWtwc_Y_AxnP",
        "outputId": "91eac178-97de-440e-9795-dbebf9141178"
      },
      "execution_count": 19,
      "outputs": [
        {
          "output_type": "stream",
          "name": "stdout",
          "text": [
            "[ 3 67  3 70]\n",
            "[ 3 67  3 70]\n",
            "[ 2 65  0 66]\n",
            "[ 3 67  3 70]\n"
          ]
        }
      ]
    }
  ]
}